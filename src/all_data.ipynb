{
 "cells": [
  {
   "cell_type": "code",
   "execution_count": 21,
   "metadata": {},
   "outputs": [
    {
     "data": {
      "text/plain": [
       "<module 'set_dataset' from '/Users/kelvin/GAMES/src/set_dataset.py'>"
      ]
     },
     "execution_count": 21,
     "metadata": {},
     "output_type": "execute_result"
    }
   ],
   "source": [
    "import pandas as pd\n",
    "import numpy as np\n",
    "import matplotlib.pyplot as plt\n",
    "import seaborn as sns\n",
    "from xgboost import XGBClassifier\n",
    "from sklearn.model_selection import StratifiedKFold, GridSearchCV, train_test_split, cross_val_score\n",
    "from sklearn.metrics import roc_curve, auc, accuracy_score, mean_squared_error, classification_report, confusion_matrix\n",
    "from xgboost import plot_importance\n",
    "from matplotlib import pyplot\n",
    "from sklearn.naive_bayes import GaussianNB\n",
    "from imblearn.over_sampling import SMOTE, ADASYN, RandomOverSampler\n",
    "from sklearn.model_selection import KFold, StratifiedKFold\n",
    "from sklearn.ensemble import RandomForestClassifier\n",
    "from sklearn.linear_model import LogisticRegression\n",
    "from sklearn.metrics import classification_report\n",
    "from sklearn.metrics import precision_score, recall_score, precision_recall_curve,f1_score, fbeta_score\n",
    "from sklearn.metrics import roc_auc_score, roc_curve\n",
    "from sklearn.metrics import precision_recall_fscore_support\n",
    "from sklearn.calibration import CalibratedClassifierCV\n",
    "import lightgbm as lgbm\n",
    "from sklearn.preprocessing import MinMaxScaler, Normalizer\n",
    "from yellowbrick.model_selection.importances import FeatureImportances\n",
    "import scikitplot as skplt\n",
    "import warnings\n",
    "warnings.filterwarnings(\"ignore\")\n",
    "%matplotlib inline\n",
    "import set_dataset as k\n",
    "import importlib\n",
    "importlib.reload(k)"
   ]
  },
  {
   "cell_type": "code",
   "execution_count": 22,
   "metadata": {},
   "outputs": [
    {
     "name": "stdout",
     "output_type": "stream",
     "text": [
      "(27075, 413)\n",
      "(27075,)\n",
      "Percentage of Majority Class: 86.43%\n",
      "Percentage of Minority Class: 13.57%\n"
     ]
    },
    {
     "data": {
      "text/plain": [
       "0    23401\n",
       "1     3674\n",
       "dtype: int64"
      ]
     },
     "execution_count": 22,
     "metadata": {},
     "output_type": "execute_result"
    }
   ],
   "source": [
    "x,y = k.x_and_y(0.70)\n",
    "print(x.shape)\n",
    "print(y.shape)\n",
    "print(f'Percentage of Majority Class: {round(y[y==0].count() / y.shape[0]*100, 2)}%')\n",
    "print(f'Percentage of Minority Class: {round(y[y==1].count() / y.shape[0]*100, 2)}%')\n",
    "y.value_counts()"
   ]
  },
  {
   "cell_type": "code",
   "execution_count": 16,
   "metadata": {},
   "outputs": [],
   "source": [
    "models = {'Light GBM': lgbm.LGBMClassifier(),\n",
    "          'XGBoost': XGBClassifier(),\n",
    "          'Logistic Regression': LogisticRegression(solver='lbfgs'),\n",
    "          'Random Forest': RandomForestClassifier(),\n",
    "          'Gaussian Naive Bayes': GaussianNB()}"
   ]
  },
  {
   "cell_type": "code",
   "execution_count": 17,
   "metadata": {},
   "outputs": [],
   "source": [
    "model_scores, models_fitted = k.fit_predict_train_test(x, y, models, RandomOverSampler())"
   ]
  },
  {
   "cell_type": "code",
   "execution_count": 18,
   "metadata": {},
   "outputs": [
    {
     "name": "stdout",
     "output_type": "stream",
     "text": [
      "                      Precision  Recall  F-Score  ROC-AUC\n",
      "Light GBM                  0.54    0.79     0.64     0.84\n",
      "XGBoost                    0.51    0.80     0.62     0.83\n",
      "Logistic Regression        0.46    0.71     0.56     0.79\n",
      "Random Forest              0.70    0.53     0.60     0.74\n",
      "Gaussian Naive Bayes       0.69    0.44     0.54     0.70\n"
     ]
    }
   ],
   "source": [
    "k.metrics_train_test(model_scores)"
   ]
  },
  {
   "cell_type": "code",
   "execution_count": 13,
   "metadata": {},
   "outputs": [
    {
     "name": "stdout",
     "output_type": "stream",
     "text": [
      "                      Precision  Recall  F-Score  ROC-AUC\n",
      "Light GBM                  0.51    0.79     0.62     0.84\n",
      "XGBoost                    0.48    0.80     0.60     0.83\n",
      "Logistic Regression        0.46    0.73     0.56     0.80\n",
      "Random Forest              0.67    0.53     0.59     0.74\n",
      "Gaussian Naive Bayes       0.63    0.40     0.49     0.68\n"
     ]
    }
   ],
   "source": [
    "k.metrics_train_test(model_scores)"
   ]
  },
  {
   "cell_type": "code",
   "execution_count": 19,
   "metadata": {},
   "outputs": [
    {
     "data": {
      "text/plain": [
       "1.0699407605579974"
      ]
     },
     "execution_count": 19,
     "metadata": {},
     "output_type": "execute_result"
    }
   ],
   "source": [
    "33594 / 31398"
   ]
  },
  {
   "cell_type": "code",
   "execution_count": 20,
   "metadata": {},
   "outputs": [
    {
     "data": {
      "text/plain": [
       "1.1366604635425477"
      ]
     },
     "execution_count": 20,
     "metadata": {},
     "output_type": "execute_result"
    }
   ],
   "source": [
    "33594 / 29555"
   ]
  },
  {
   "cell_type": "code",
   "execution_count": null,
   "metadata": {},
   "outputs": [],
   "source": []
  }
 ],
 "metadata": {
  "kernelspec": {
   "display_name": "Python 3",
   "language": "python",
   "name": "python3"
  },
  "language_info": {
   "codemirror_mode": {
    "name": "ipython",
    "version": 3
   },
   "file_extension": ".py",
   "mimetype": "text/x-python",
   "name": "python",
   "nbconvert_exporter": "python",
   "pygments_lexer": "ipython3",
   "version": "3.7.4"
  }
 },
 "nbformat": 4,
 "nbformat_minor": 2
}
