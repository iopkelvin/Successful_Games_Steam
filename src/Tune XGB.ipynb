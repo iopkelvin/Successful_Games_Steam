{
 "cells": [
  {
   "cell_type": "code",
   "execution_count": 110,
   "metadata": {},
   "outputs": [
    {
     "data": {
      "text/plain": [
       "<module 'set_dataset' from '/Users/kelvin/GAMES/src/set_dataset.py'>"
      ]
     },
     "execution_count": 110,
     "metadata": {},
     "output_type": "execute_result"
    }
   ],
   "source": [
    "import pandas as pd\n",
    "import numpy as np\n",
    "import matplotlib.pyplot as plt\n",
    "import seaborn as sns\n",
    "from xgboost import XGBClassifier\n",
    "from sklearn.model_selection import StratifiedKFold, GridSearchCV, train_test_split, cross_val_score\n",
    "from sklearn.metrics import roc_curve, auc, accuracy_score, mean_squared_error, classification_report, confusion_matrix\n",
    "from xgboost import plot_importance\n",
    "from matplotlib import pyplot\n",
    "from sklearn.naive_bayes import GaussianNB\n",
    "from imblearn.over_sampling import SMOTE, ADASYN, RandomOverSampler\n",
    "from sklearn.model_selection import KFold, StratifiedKFold\n",
    "from sklearn.ensemble import RandomForestClassifier\n",
    "from sklearn.linear_model import LogisticRegression\n",
    "from sklearn.metrics import classification_report\n",
    "from sklearn.metrics import precision_score, recall_score, precision_recall_curve,f1_score, fbeta_score\n",
    "from sklearn.metrics import roc_auc_score, roc_curve\n",
    "from sklearn.metrics import precision_recall_fscore_support\n",
    "from sklearn.calibration import CalibratedClassifierCV\n",
    "import lightgbm as lgbm\n",
    "from sklearn.preprocessing import MinMaxScaler, Normalizer\n",
    "from yellowbrick.model_selection.importances import FeatureImportances\n",
    "import scikitplot as skplt\n",
    "import warnings\n",
    "warnings.filterwarnings(\"ignore\")\n",
    "%matplotlib inline\n",
    "import set_dataset as k\n",
    "import importlib\n",
    "importlib.reload(k)"
   ]
  },
  {
   "cell_type": "code",
   "execution_count": 111,
   "metadata": {
    "scrolled": true
   },
   "outputs": [
    {
     "name": "stdout",
     "output_type": "stream",
     "text": [
      "(27075, 100)\n",
      "(27075,)\n",
      "Percentage of Majority Class: 86.43%\n",
      "Percentage of Minority Class: 13.57%\n"
     ]
    },
    {
     "data": {
      "text/plain": [
       "0    23401\n",
       "1     3674\n",
       "Name: y, dtype: int64"
      ]
     },
     "execution_count": 111,
     "metadata": {},
     "output_type": "execute_result"
    }
   ],
   "source": [
    "db = pd.read_csv('db_coef350_xgb100.csv')\n",
    "x = db.iloc[:, :-1]\n",
    "y = db.iloc[:, -1]\n",
    "print(x.shape)\n",
    "print(y.shape)\n",
    "print(f'Percentage of Majority Class: {round(y[y==0].count() / y.shape[0]*100, 2)}%')\n",
    "print(f'Percentage of Minority Class: {round(y[y==1].count() / y.shape[0]*100, 2)}%')\n",
    "y.value_counts()"
   ]
  },
  {
   "cell_type": "markdown",
   "metadata": {},
   "source": [
    "# XGB"
   ]
  },
  {
   "cell_type": "markdown",
   "metadata": {},
   "source": [
    "## Grid Search "
   ]
  },
  {
   "cell_type": "code",
   "execution_count": 14,
   "metadata": {
    "collapsed": true
   },
   "outputs": [
    {
     "name": "stdout",
     "output_type": "stream",
     "text": [
      "# Tuning hyper-parameters for precision\n",
      "\n",
      "Best parameters set found on development set:\n",
      "\n",
      "{'gamma': 0.5, 'learning_rate': 0.4, 'max_depth': 6, 'min_child_weight': 10}\n",
      "Grid scores on development set:\n",
      "\n",
      "0.843 (+/-0.007) for {'gamma': 0.5, 'learning_rate': 0.1, 'max_depth': 4, 'min_child_weight': 10}\n",
      "0.841 (+/-0.007) for {'gamma': 0.5, 'learning_rate': 0.1, 'max_depth': 4, 'min_child_weight': 12}\n",
      "0.851 (+/-0.005) for {'gamma': 0.5, 'learning_rate': 0.1, 'max_depth': 5, 'min_child_weight': 10}\n",
      "0.850 (+/-0.005) for {'gamma': 0.5, 'learning_rate': 0.1, 'max_depth': 5, 'min_child_weight': 12}\n",
      "0.858 (+/-0.004) for {'gamma': 0.5, 'learning_rate': 0.1, 'max_depth': 6, 'min_child_weight': 10}\n",
      "0.855 (+/-0.005) for {'gamma': 0.5, 'learning_rate': 0.1, 'max_depth': 6, 'min_child_weight': 12}\n",
      "0.853 (+/-0.005) for {'gamma': 0.5, 'learning_rate': 0.2, 'max_depth': 4, 'min_child_weight': 10}\n",
      "0.851 (+/-0.006) for {'gamma': 0.5, 'learning_rate': 0.2, 'max_depth': 4, 'min_child_weight': 12}\n",
      "0.860 (+/-0.004) for {'gamma': 0.5, 'learning_rate': 0.2, 'max_depth': 5, 'min_child_weight': 10}\n",
      "0.858 (+/-0.005) for {'gamma': 0.5, 'learning_rate': 0.2, 'max_depth': 5, 'min_child_weight': 12}\n",
      "0.866 (+/-0.005) for {'gamma': 0.5, 'learning_rate': 0.2, 'max_depth': 6, 'min_child_weight': 10}\n",
      "0.864 (+/-0.005) for {'gamma': 0.5, 'learning_rate': 0.2, 'max_depth': 6, 'min_child_weight': 12}\n",
      "0.858 (+/-0.005) for {'gamma': 0.5, 'learning_rate': 0.3, 'max_depth': 4, 'min_child_weight': 10}\n",
      "0.856 (+/-0.006) for {'gamma': 0.5, 'learning_rate': 0.3, 'max_depth': 4, 'min_child_weight': 12}\n",
      "0.866 (+/-0.005) for {'gamma': 0.5, 'learning_rate': 0.3, 'max_depth': 5, 'min_child_weight': 10}\n",
      "0.863 (+/-0.007) for {'gamma': 0.5, 'learning_rate': 0.3, 'max_depth': 5, 'min_child_weight': 12}\n",
      "0.874 (+/-0.007) for {'gamma': 0.5, 'learning_rate': 0.3, 'max_depth': 6, 'min_child_weight': 10}\n",
      "0.870 (+/-0.006) for {'gamma': 0.5, 'learning_rate': 0.3, 'max_depth': 6, 'min_child_weight': 12}\n",
      "0.863 (+/-0.003) for {'gamma': 0.5, 'learning_rate': 0.4, 'max_depth': 4, 'min_child_weight': 10}\n",
      "0.861 (+/-0.008) for {'gamma': 0.5, 'learning_rate': 0.4, 'max_depth': 4, 'min_child_weight': 12}\n",
      "0.870 (+/-0.006) for {'gamma': 0.5, 'learning_rate': 0.4, 'max_depth': 5, 'min_child_weight': 10}\n",
      "0.867 (+/-0.008) for {'gamma': 0.5, 'learning_rate': 0.4, 'max_depth': 5, 'min_child_weight': 12}\n",
      "0.879 (+/-0.007) for {'gamma': 0.5, 'learning_rate': 0.4, 'max_depth': 6, 'min_child_weight': 10}\n",
      "0.876 (+/-0.006) for {'gamma': 0.5, 'learning_rate': 0.4, 'max_depth': 6, 'min_child_weight': 12}\n",
      "0.844 (+/-0.007) for {'gamma': 0.9, 'learning_rate': 0.1, 'max_depth': 4, 'min_child_weight': 10}\n",
      "0.842 (+/-0.006) for {'gamma': 0.9, 'learning_rate': 0.1, 'max_depth': 4, 'min_child_weight': 12}\n",
      "0.850 (+/-0.004) for {'gamma': 0.9, 'learning_rate': 0.1, 'max_depth': 5, 'min_child_weight': 10}\n",
      "0.849 (+/-0.007) for {'gamma': 0.9, 'learning_rate': 0.1, 'max_depth': 5, 'min_child_weight': 12}\n",
      "0.857 (+/-0.005) for {'gamma': 0.9, 'learning_rate': 0.1, 'max_depth': 6, 'min_child_weight': 10}\n",
      "0.855 (+/-0.005) for {'gamma': 0.9, 'learning_rate': 0.1, 'max_depth': 6, 'min_child_weight': 12}\n",
      "0.851 (+/-0.005) for {'gamma': 0.9, 'learning_rate': 0.2, 'max_depth': 4, 'min_child_weight': 10}\n",
      "0.851 (+/-0.005) for {'gamma': 0.9, 'learning_rate': 0.2, 'max_depth': 4, 'min_child_weight': 12}\n",
      "0.859 (+/-0.004) for {'gamma': 0.9, 'learning_rate': 0.2, 'max_depth': 5, 'min_child_weight': 10}\n",
      "0.858 (+/-0.005) for {'gamma': 0.9, 'learning_rate': 0.2, 'max_depth': 5, 'min_child_weight': 12}\n",
      "0.867 (+/-0.004) for {'gamma': 0.9, 'learning_rate': 0.2, 'max_depth': 6, 'min_child_weight': 10}\n",
      "0.864 (+/-0.005) for {'gamma': 0.9, 'learning_rate': 0.2, 'max_depth': 6, 'min_child_weight': 12}\n",
      "0.857 (+/-0.005) for {'gamma': 0.9, 'learning_rate': 0.3, 'max_depth': 4, 'min_child_weight': 10}\n",
      "0.856 (+/-0.005) for {'gamma': 0.9, 'learning_rate': 0.3, 'max_depth': 4, 'min_child_weight': 12}\n",
      "0.865 (+/-0.006) for {'gamma': 0.9, 'learning_rate': 0.3, 'max_depth': 5, 'min_child_weight': 10}\n",
      "0.863 (+/-0.009) for {'gamma': 0.9, 'learning_rate': 0.3, 'max_depth': 5, 'min_child_weight': 12}\n",
      "0.873 (+/-0.006) for {'gamma': 0.9, 'learning_rate': 0.3, 'max_depth': 6, 'min_child_weight': 10}\n",
      "0.872 (+/-0.008) for {'gamma': 0.9, 'learning_rate': 0.3, 'max_depth': 6, 'min_child_weight': 12}\n",
      "0.862 (+/-0.006) for {'gamma': 0.9, 'learning_rate': 0.4, 'max_depth': 4, 'min_child_weight': 10}\n",
      "0.861 (+/-0.006) for {'gamma': 0.9, 'learning_rate': 0.4, 'max_depth': 4, 'min_child_weight': 12}\n",
      "0.870 (+/-0.007) for {'gamma': 0.9, 'learning_rate': 0.4, 'max_depth': 5, 'min_child_weight': 10}\n",
      "0.867 (+/-0.006) for {'gamma': 0.9, 'learning_rate': 0.4, 'max_depth': 5, 'min_child_weight': 12}\n",
      "0.879 (+/-0.005) for {'gamma': 0.9, 'learning_rate': 0.4, 'max_depth': 6, 'min_child_weight': 10}\n",
      "0.876 (+/-0.005) for {'gamma': 0.9, 'learning_rate': 0.4, 'max_depth': 6, 'min_child_weight': 12}\n",
      "0.843 (+/-0.006) for {'gamma': 1, 'learning_rate': 0.1, 'max_depth': 4, 'min_child_weight': 10}\n",
      "0.841 (+/-0.008) for {'gamma': 1, 'learning_rate': 0.1, 'max_depth': 4, 'min_child_weight': 12}\n",
      "0.851 (+/-0.005) for {'gamma': 1, 'learning_rate': 0.1, 'max_depth': 5, 'min_child_weight': 10}\n",
      "0.849 (+/-0.006) for {'gamma': 1, 'learning_rate': 0.1, 'max_depth': 5, 'min_child_weight': 12}\n",
      "0.857 (+/-0.005) for {'gamma': 1, 'learning_rate': 0.1, 'max_depth': 6, 'min_child_weight': 10}\n",
      "0.854 (+/-0.005) for {'gamma': 1, 'learning_rate': 0.1, 'max_depth': 6, 'min_child_weight': 12}\n",
      "0.852 (+/-0.005) for {'gamma': 1, 'learning_rate': 0.2, 'max_depth': 4, 'min_child_weight': 10}\n",
      "0.851 (+/-0.005) for {'gamma': 1, 'learning_rate': 0.2, 'max_depth': 4, 'min_child_weight': 12}\n",
      "0.860 (+/-0.005) for {'gamma': 1, 'learning_rate': 0.2, 'max_depth': 5, 'min_child_weight': 10}\n",
      "0.857 (+/-0.004) for {'gamma': 1, 'learning_rate': 0.2, 'max_depth': 5, 'min_child_weight': 12}\n",
      "0.866 (+/-0.005) for {'gamma': 1, 'learning_rate': 0.2, 'max_depth': 6, 'min_child_weight': 10}\n",
      "0.864 (+/-0.004) for {'gamma': 1, 'learning_rate': 0.2, 'max_depth': 6, 'min_child_weight': 12}\n",
      "0.858 (+/-0.004) for {'gamma': 1, 'learning_rate': 0.3, 'max_depth': 4, 'min_child_weight': 10}\n",
      "0.857 (+/-0.003) for {'gamma': 1, 'learning_rate': 0.3, 'max_depth': 4, 'min_child_weight': 12}\n",
      "0.865 (+/-0.002) for {'gamma': 1, 'learning_rate': 0.3, 'max_depth': 5, 'min_child_weight': 10}\n",
      "0.864 (+/-0.005) for {'gamma': 1, 'learning_rate': 0.3, 'max_depth': 5, 'min_child_weight': 12}\n",
      "0.872 (+/-0.007) for {'gamma': 1, 'learning_rate': 0.3, 'max_depth': 6, 'min_child_weight': 10}\n",
      "0.871 (+/-0.009) for {'gamma': 1, 'learning_rate': 0.3, 'max_depth': 6, 'min_child_weight': 12}\n",
      "0.863 (+/-0.005) for {'gamma': 1, 'learning_rate': 0.4, 'max_depth': 4, 'min_child_weight': 10}\n",
      "0.860 (+/-0.007) for {'gamma': 1, 'learning_rate': 0.4, 'max_depth': 4, 'min_child_weight': 12}\n",
      "0.871 (+/-0.006) for {'gamma': 1, 'learning_rate': 0.4, 'max_depth': 5, 'min_child_weight': 10}\n",
      "0.868 (+/-0.005) for {'gamma': 1, 'learning_rate': 0.4, 'max_depth': 5, 'min_child_weight': 12}\n",
      "0.879 (+/-0.004) for {'gamma': 1, 'learning_rate': 0.4, 'max_depth': 6, 'min_child_weight': 10}\n",
      "0.876 (+/-0.006) for {'gamma': 1, 'learning_rate': 0.4, 'max_depth': 6, 'min_child_weight': 12}\n",
      "\n",
      "Detailed classification report:\n",
      "\n",
      "The model is trained on the full development set.\n",
      "The scores are computed on the full evaluation set.\n",
      "\n",
      "              precision    recall  f1-score   support\n",
      "\n",
      "           0       0.96      0.89      0.93      4680\n",
      "           1       0.53      0.77      0.63       735\n",
      "\n",
      "    accuracy                           0.88      5415\n",
      "   macro avg       0.75      0.83      0.78      5415\n",
      "weighted avg       0.90      0.88      0.89      5415\n",
      "\n",
      "# Tuning hyper-parameters for recall\n",
      "\n"
     ]
    },
    {
     "ename": "ValueError",
     "evalue": "Parameter values for parameter (gamma) need to be a sequence(but not a string) or np.ndarray.",
     "output_type": "error",
     "traceback": [
      "\u001b[0;31m---------------------------------------------------------------------------\u001b[0m",
      "\u001b[0;31mValueError\u001b[0m                                Traceback (most recent call last)",
      "\u001b[0;32m<ipython-input-14-e6edf14417fd>\u001b[0m in \u001b[0;36m<module>\u001b[0;34m\u001b[0m\n\u001b[1;32m     14\u001b[0m     \u001b[0mprint\u001b[0m\u001b[0;34m(\u001b[0m\u001b[0;34m\"# Tuning hyper-parameters for %s\"\u001b[0m \u001b[0;34m%\u001b[0m \u001b[0mscore\u001b[0m\u001b[0;34m)\u001b[0m\u001b[0;34m\u001b[0m\u001b[0;34m\u001b[0m\u001b[0m\n\u001b[1;32m     15\u001b[0m     \u001b[0mprint\u001b[0m\u001b[0;34m(\u001b[0m\u001b[0;34m)\u001b[0m\u001b[0;34m\u001b[0m\u001b[0;34m\u001b[0m\u001b[0m\n\u001b[0;32m---> 16\u001b[0;31m     \u001b[0mgrid\u001b[0m \u001b[0;34m=\u001b[0m \u001b[0mGridSearchCV\u001b[0m\u001b[0;34m(\u001b[0m\u001b[0mmodel\u001b[0m\u001b[0;34m,\u001b[0m \u001b[0mparams\u001b[0m\u001b[0;34m,\u001b[0m \u001b[0mcv\u001b[0m\u001b[0;34m=\u001b[0m\u001b[0;36m5\u001b[0m\u001b[0;34m,\u001b[0m \u001b[0mscoring\u001b[0m\u001b[0;34m=\u001b[0m\u001b[0;34m'%s_macro'\u001b[0m \u001b[0;34m%\u001b[0m \u001b[0mscore\u001b[0m\u001b[0;34m)\u001b[0m\u001b[0;34m\u001b[0m\u001b[0;34m\u001b[0m\u001b[0m\n\u001b[0m\u001b[1;32m     17\u001b[0m     \u001b[0mgrid\u001b[0m\u001b[0;34m.\u001b[0m\u001b[0mfit\u001b[0m\u001b[0;34m(\u001b[0m\u001b[0mx_balance\u001b[0m\u001b[0;34m,\u001b[0m \u001b[0my_balance\u001b[0m\u001b[0;34m)\u001b[0m\u001b[0;34m\u001b[0m\u001b[0;34m\u001b[0m\u001b[0m\n\u001b[1;32m     18\u001b[0m     \u001b[0mprint\u001b[0m\u001b[0;34m(\u001b[0m\u001b[0;34m\"Best parameters set found on development set:\"\u001b[0m\u001b[0;34m)\u001b[0m\u001b[0;34m\u001b[0m\u001b[0;34m\u001b[0m\u001b[0m\n",
      "\u001b[0;32m~/anaconda3/lib/python3.7/site-packages/sklearn/model_selection/_search.py\u001b[0m in \u001b[0;36m__init__\u001b[0;34m(self, estimator, param_grid, scoring, n_jobs, iid, refit, cv, verbose, pre_dispatch, error_score, return_train_score)\u001b[0m\n\u001b[1;32m   1143\u001b[0m             return_train_score=return_train_score)\n\u001b[1;32m   1144\u001b[0m         \u001b[0mself\u001b[0m\u001b[0;34m.\u001b[0m\u001b[0mparam_grid\u001b[0m \u001b[0;34m=\u001b[0m \u001b[0mparam_grid\u001b[0m\u001b[0;34m\u001b[0m\u001b[0;34m\u001b[0m\u001b[0m\n\u001b[0;32m-> 1145\u001b[0;31m         \u001b[0m_check_param_grid\u001b[0m\u001b[0;34m(\u001b[0m\u001b[0mparam_grid\u001b[0m\u001b[0;34m)\u001b[0m\u001b[0;34m\u001b[0m\u001b[0;34m\u001b[0m\u001b[0m\n\u001b[0m\u001b[1;32m   1146\u001b[0m \u001b[0;34m\u001b[0m\u001b[0m\n\u001b[1;32m   1147\u001b[0m     \u001b[0;32mdef\u001b[0m \u001b[0m_run_search\u001b[0m\u001b[0;34m(\u001b[0m\u001b[0mself\u001b[0m\u001b[0;34m,\u001b[0m \u001b[0mevaluate_candidates\u001b[0m\u001b[0;34m)\u001b[0m\u001b[0;34m:\u001b[0m\u001b[0;34m\u001b[0m\u001b[0;34m\u001b[0m\u001b[0m\n",
      "\u001b[0;32m~/anaconda3/lib/python3.7/site-packages/sklearn/model_selection/_search.py\u001b[0m in \u001b[0;36m_check_param_grid\u001b[0;34m(param_grid)\u001b[0m\n\u001b[1;32m    369\u001b[0m                 raise ValueError(\"Parameter values for parameter ({0}) need \"\n\u001b[1;32m    370\u001b[0m                                  \u001b[0;34m\"to be a sequence(but not a string) or\"\u001b[0m\u001b[0;34m\u001b[0m\u001b[0;34m\u001b[0m\u001b[0m\n\u001b[0;32m--> 371\u001b[0;31m                                  \" np.ndarray.\".format(name))\n\u001b[0m\u001b[1;32m    372\u001b[0m \u001b[0;34m\u001b[0m\u001b[0m\n\u001b[1;32m    373\u001b[0m             \u001b[0;32mif\u001b[0m \u001b[0mlen\u001b[0m\u001b[0;34m(\u001b[0m\u001b[0mv\u001b[0m\u001b[0;34m)\u001b[0m \u001b[0;34m==\u001b[0m \u001b[0;36m0\u001b[0m\u001b[0;34m:\u001b[0m\u001b[0;34m\u001b[0m\u001b[0;34m\u001b[0m\u001b[0m\n",
      "\u001b[0;31mValueError\u001b[0m: Parameter values for parameter (gamma) need to be a sequence(but not a string) or np.ndarray."
     ]
    }
   ],
   "source": [
    "params = {\n",
    "        'learning_rate': [0.1, 0.2, 0.3, 0.4],\n",
    "        'gamma': [0.5, 0.9, 1],\n",
    "        'min_child_weight': [10, 12],\n",
    "        'max_depth': [4, 5, 6]\n",
    "        }\n",
    "\n",
    "scores = ['precision', 'recall']\n",
    "\n",
    "x_balance, y_balance = k.balance(x_train, y_train, RandomOverSampler())\n",
    "model = XGBClassifier()\n",
    "\n",
    "for score in scores:\n",
    "    print(\"# Tuning hyper-parameters for %s\" % score)\n",
    "    print()\n",
    "    grid = GridSearchCV(model, params, cv=5, scoring='%s_macro' % score)\n",
    "    grid.fit(x_balance, y_balance)\n",
    "    print(\"Best parameters set found on development set:\")\n",
    "    print()\n",
    "    print(grid.best_params_)\n",
    "    print(\"Grid scores on development set:\")\n",
    "    print()\n",
    "    means = grid.cv_results_['mean_test_score']\n",
    "    stds = grid.cv_results_['std_test_score']\n",
    "\n",
    "    for mean, std, params in zip(means, stds, grid.cv_results_['params']):\n",
    "        print(\"%0.3f (+/-%0.03f) for %r\"\n",
    "              % (mean, std * 2, params))\n",
    "    print()\n",
    "\n",
    "    print(\"Detailed classification report:\")\n",
    "    print()\n",
    "    print(\"The model is trained on the full development set.\")\n",
    "    print(\"The scores are computed on the full evaluation set.\")\n",
    "    print()\n",
    "    y_true, y_pred = y_test, grid.predict(x_test)\n",
    "    print(classification_report(y_true, y_pred))"
   ]
  },
  {
   "cell_type": "code",
   "execution_count": 90,
   "metadata": {
    "scrolled": true
   },
   "outputs": [
    {
     "name": "stdout",
     "output_type": "stream",
     "text": [
      "# Tuning hyper-parameters for recall\n",
      "\n",
      "Best parameters set found on development set:\n",
      "\n",
      "{'learning_rate': 0.4, 'max_depth': 6, 'min_child_weight': 10}\n",
      "Grid scores on development set:\n",
      "\n",
      "0.868 (+/-0.005) for {'learning_rate': 0.3, 'max_depth': 5, 'min_child_weight': 10}\n",
      "0.865 (+/-0.008) for {'learning_rate': 0.3, 'max_depth': 5, 'min_child_weight': 12}\n",
      "0.874 (+/-0.007) for {'learning_rate': 0.3, 'max_depth': 6, 'min_child_weight': 10}\n",
      "0.872 (+/-0.005) for {'learning_rate': 0.3, 'max_depth': 6, 'min_child_weight': 12}\n",
      "0.871 (+/-0.008) for {'learning_rate': 0.4, 'max_depth': 5, 'min_child_weight': 10}\n",
      "0.871 (+/-0.009) for {'learning_rate': 0.4, 'max_depth': 5, 'min_child_weight': 12}\n",
      "0.880 (+/-0.008) for {'learning_rate': 0.4, 'max_depth': 6, 'min_child_weight': 10}\n",
      "0.877 (+/-0.010) for {'learning_rate': 0.4, 'max_depth': 6, 'min_child_weight': 12}\n",
      "\n",
      "Detailed classification report:\n",
      "\n",
      "The model is trained on the full development set.\n",
      "The scores are computed on the full evaluation set.\n",
      "\n",
      "              precision    recall  f1-score   support\n",
      "\n",
      "           0       0.96      0.89      0.93      4680\n",
      "           1       0.53      0.76      0.62       735\n",
      "\n",
      "    accuracy                           0.88      5415\n",
      "   macro avg       0.74      0.83      0.77      5415\n",
      "weighted avg       0.90      0.88      0.88      5415\n",
      "\n"
     ]
    }
   ],
   "source": [
    "params = {\n",
    "        'learning_rate': [0.3, 0.4],\n",
    "        'min_child_weight': [10, 12],\n",
    "        'max_depth': [5, 6]\n",
    "        }\n",
    "\n",
    "scores = ['recall']\n",
    "\n",
    "x_balance, y_balance = k.balance(x_train, y_train, RandomOverSampler())\n",
    "model = lgbm.LGBMClassifier()\n",
    "\n",
    "for score in scores:\n",
    "    print(\"# Tuning hyper-parameters for %s\" % score)\n",
    "    print()\n",
    "    grid = GridSearchCV(model, params, cv=5, scoring='%s_macro' % score)\n",
    "    grid.fit(x_balance, y_balance)\n",
    "    print(\"Best parameters set found on development set:\")\n",
    "    print()\n",
    "    print(grid.best_params_)\n",
    "    print(\"Grid scores on development set:\")\n",
    "    print()\n",
    "    means = grid.cv_results_['mean_test_score']\n",
    "    stds = grid.cv_results_['std_test_score']\n",
    "\n",
    "    for mean, std, params in zip(means, stds, grid.cv_results_['params']):\n",
    "        print(\"%0.3f (+/-%0.03f) for %r\"\n",
    "              % (mean, std * 2, params))\n",
    "    print()\n",
    "\n",
    "    print(\"Detailed classification report:\")\n",
    "    print()\n",
    "    print(\"The model is trained on the full development set.\")\n",
    "    print(\"The scores are computed on the full evaluation set.\")\n",
    "    print()\n",
    "    y_true, y_pred = y_test, grid.predict(x_test)\n",
    "    print(classification_report(y_true, y_pred))"
   ]
  },
  {
   "cell_type": "markdown",
   "metadata": {},
   "source": [
    "## HyperParameter Tuning  "
   ]
  },
  {
   "cell_type": "code",
   "execution_count": 4,
   "metadata": {},
   "outputs": [
    {
     "data": {
      "image/png": "[encoded data removed]",
      "text/plain": [
       "<Figure size 432x288 with 1 Axes>"
      ]
     },
     "metadata": {
      "needs_background": "light"
     },
     "output_type": "display_data"
    }
   ],
   "source": [
    "#5 - 6\n",
    "x_train, x_test, y_train, y_test = train_test_split(x, y, test_size=0.25, stratify=y)\n",
    "\n",
    "x_train, x_test, y_train, y_test = train_test_split(, y, test_size=0.25, stratify=y)\n",
    "x_train, y_train = k.balance(x_train, y_train, RandomOverSampler())\n",
    "n_estimators = [5, 7, 9, 10, 12, 15]\n",
    "#n_estimators = np.linspace(0.05, 1, 10, endpoint=True)\n",
    "train_results = []\n",
    "test_results = []\n",
    "for estimator in n_estimators:\n",
    "    model = XGBClassifier(max_depth=estimator)\n",
    "    #model = XGBClassifier(gamma=estimator, min_child_weight=4, scale_pos_weight=0.14)\n",
    "    model.fit(x_train, y_train)\n",
    "    train_pred = model.predict(x_train)\n",
    "    false_positive_rate, true_positive_rate, thresholds = roc_curve(y_train, train_pred)\n",
    "    roc_auc = auc(false_positive_rate, true_positive_rate)\n",
    "    train_results.append(roc_auc)\n",
    "    y_pred = model.predict(x_test)\n",
    "    false_positive_rate, true_positive_rate, thresholds = roc_curve(y_test, y_pred)\n",
    "    roc_auc = auc(false_positive_rate, true_positive_rate)\n",
    "    test_results.append(roc_auc)\n",
    "from matplotlib.legend_handler import HandlerLine2D\n",
    "line1, = plt.plot(n_estimators, train_results, 'b', label='Train AUC')\n",
    "line2, = plt.plot(n_estimators, test_results, 'r', label='Test AUC')\n",
    "plt.legend(handler_map={line1: HandlerLine2D(numpoints=2)})\n",
    "plt.ylabel('AUC score')\n",
    "plt.xlabel('n_estimators')\n",
    "plt.show()"
   ]
  },
  {
   "cell_type": "code",
   "execution_count": 52,
   "metadata": {},
   "outputs": [
    {
     "data": {
      "image/png": "[encoded data removed]",
      "text/plain": [
       "<Figure size 432x288 with 1 Axes>"
      ]
     },
     "metadata": {
      "needs_background": "light"
     },
     "output_type": "display_data"
    }
   ],
   "source": [
    "# 0.2 - 0.3\n",
    "x_train, x_test, y_train, y_test = train_test_split(x, y, test_size=0.25, stratify=y)\n",
    "x_train, y_train = k.balance(x_train, y_train, RandomOverSampler())\n",
    "# n_estimators = [5, 7, 9, 10, 12, 15]\n",
    "n_estimators = np.linspace(0.05, 1, 10, endpoint=True)\n",
    "train_results = []\n",
    "test_results = []\n",
    "for estimator in n_estimators:\n",
    "    model = XGBClassifier(learning_rate=estimator)\n",
    "    #model = XGBClassifier(gamma=estimator, min_child_weight=4, scale_pos_weight=0.14)\n",
    "    model.fit(x_train, y_train)\n",
    "    train_pred = model.predict(x_train)\n",
    "    false_positive_rate, true_positive_rate, thresholds = roc_curve(y_train, train_pred)\n",
    "    roc_auc = auc(false_positive_rate, true_positive_rate)\n",
    "    train_results.append(roc_auc)\n",
    "    y_pred = model.predict(x_test)\n",
    "    false_positive_rate, true_positive_rate, thresholds = roc_curve(y_test, y_pred)\n",
    "    roc_auc = auc(false_positive_rate, true_positive_rate)\n",
    "    test_results.append(roc_auc)\n",
    "from matplotlib.legend_handler import HandlerLine2D\n",
    "line1, = plt.plot(n_estimators, train_results, 'b', label='Train AUC')\n",
    "line2, = plt.plot(n_estimators, test_results, 'r', label='Test AUC')\n",
    "plt.legend(handler_map={line1: HandlerLine2D(numpoints=2)})\n",
    "plt.ylabel('AUC score')\n",
    "plt.xlabel('n_estimators')\n",
    "plt.show()"
   ]
  },
  {
   "cell_type": "code",
   "execution_count": 51,
   "metadata": {},
   "outputs": [
    {
     "data": {
      "image/png": "[encoded data removed]",
      "text/plain": [
       "<Figure size 432x288 with 1 Axes>"
      ]
     },
     "metadata": {
      "needs_background": "light"
     },
     "output_type": "display_data"
    }
   ],
   "source": [
    "# 9 \n",
    "x_train, x_test, y_train, y_test = train_test_split(x, y, test_size=0.25, stratify=y)\n",
    "x_train, y_train = k.balance(x_train, y_train, RandomOverSampler())\n",
    "n_estimators = [5, 7, 9, 10]\n",
    "#n_estimators = np.linspace(0.05, 1, 10, endpoint=True)\n",
    "train_results = []\n",
    "test_results = []\n",
    "for estimator in n_estimators:\n",
    "    model = XGBClassifier(min_child_weight=estimator)\n",
    "    #model = XGBClassifier(gamma=estimator, min_child_weight=4, scale_pos_weight=0.14)\n",
    "    model.fit(x_train, y_train)\n",
    "    train_pred = model.predict(x_train)\n",
    "    false_positive_rate, true_positive_rate, thresholds = roc_curve(y_train, train_pred)\n",
    "    roc_auc = auc(false_positive_rate, true_positive_rate)\n",
    "    train_results.append(roc_auc)\n",
    "    y_pred = model.predict(x_test)\n",
    "    false_positive_rate, true_positive_rate, thresholds = roc_curve(y_test, y_pred)\n",
    "    roc_auc = auc(false_positive_rate, true_positive_rate)\n",
    "    test_results.append(roc_auc)\n",
    "from matplotlib.legend_handler import HandlerLine2D\n",
    "line1, = plt.plot(n_estimators, train_results, 'b', label='Train AUC')\n",
    "line2, = plt.plot(n_estimators, test_results, 'r', label='Test AUC')\n",
    "plt.legend(handler_map={line1: HandlerLine2D(numpoints=2)})\n",
    "plt.ylabel('AUC score')\n",
    "plt.xlabel('n_estimators')\n",
    "plt.show()"
   ]
  },
  {
   "cell_type": "code",
   "execution_count": 6,
   "metadata": {},
   "outputs": [
    {
     "data": {
      "image/png": "[encoded data removed]",
      "text/plain": [
       "<Figure size 432x288 with 1 Axes>"
      ]
     },
     "metadata": {
      "needs_background": "light"
     },
     "output_type": "display_data"
    }
   ],
   "source": [
    "x_train, x_test, y_train, y_test = train_test_split(x, y, test_size=0.25, stratify=y)\n",
    "x_train, y_train = k.balance(x_train, y_train, RandomOverSampler())\n",
    "# n_estimators = [5, 7, 9, 10, 12, 15]\n",
    "n_estimators = np.linspace(0.05, 1, 10, endpoint=True)\n",
    "train_results = []\n",
    "test_results = []\n",
    "for estimator in n_estimators:\n",
    "    model = XGBClassifier(learning_rate=0.3, max_depth=5, gamma=estimator)\n",
    "    #model = XGBClassifier(gamma=estimator, min_child_weight=4, scale_pos_weight=0.14)\n",
    "    model.fit(x_train, y_train)\n",
    "    train_pred = model.predict(x_train)\n",
    "    false_positive_rate, true_positive_rate, thresholds = roc_curve(y_train, train_pred)\n",
    "    roc_auc = auc(false_positive_rate, true_positive_rate)\n",
    "    train_results.append(roc_auc)\n",
    "    y_pred = model.predict(x_test)\n",
    "    false_positive_rate, true_positive_rate, thresholds = roc_curve(y_test, y_pred)\n",
    "    roc_auc = auc(false_positive_rate, true_positive_rate)\n",
    "    test_results.append(roc_auc)\n",
    "from matplotlib.legend_handler import HandlerLine2D\n",
    "line1, = plt.plot(n_estimators, train_results, 'b', label='Train AUC')\n",
    "line2, = plt.plot(n_estimators, test_results, 'r', label='Test AUC')\n",
    "plt.legend(handler_map={line1: HandlerLine2D(numpoints=2)})\n",
    "plt.ylabel('AUC score')\n",
    "plt.xlabel('n_estimators')\n",
    "plt.show()"
   ]
  },
  {
   "cell_type": "markdown",
   "metadata": {},
   "source": [
    "# LightGBM "
   ]
  },
  {
   "cell_type": "code",
   "execution_count": 113,
   "metadata": {},
   "outputs": [
    {
     "name": "stdout",
     "output_type": "stream",
     "text": [
      "# Tuning hyper-parameters for recall\n",
      "\n",
      "Best parameters set found on development set:\n",
      "\n",
      "{'gamma': 0.3, 'learning_rate': 0.4, 'max_depth': 6, 'min_child_weight': 10}\n",
      "Grid scores on development set:\n",
      "\n",
      "0.868 (+/-0.007) for {'gamma': 0.3, 'learning_rate': 0.3, 'max_depth': 5, 'min_child_weight': 10}\n",
      "0.869 (+/-0.006) for {'gamma': 0.3, 'learning_rate': 0.3, 'max_depth': 5, 'min_child_weight': 12}\n",
      "0.876 (+/-0.007) for {'gamma': 0.3, 'learning_rate': 0.3, 'max_depth': 6, 'min_child_weight': 10}\n",
      "0.873 (+/-0.009) for {'gamma': 0.3, 'learning_rate': 0.3, 'max_depth': 6, 'min_child_weight': 12}\n",
      "0.872 (+/-0.008) for {'gamma': 0.3, 'learning_rate': 0.4, 'max_depth': 5, 'min_child_weight': 10}\n",
      "0.870 (+/-0.010) for {'gamma': 0.3, 'learning_rate': 0.4, 'max_depth': 5, 'min_child_weight': 12}\n",
      "0.880 (+/-0.008) for {'gamma': 0.3, 'learning_rate': 0.4, 'max_depth': 6, 'min_child_weight': 10}\n",
      "0.878 (+/-0.011) for {'gamma': 0.3, 'learning_rate': 0.4, 'max_depth': 6, 'min_child_weight': 12}\n",
      "0.868 (+/-0.007) for {'gamma': 0.5, 'learning_rate': 0.3, 'max_depth': 5, 'min_child_weight': 10}\n",
      "0.869 (+/-0.006) for {'gamma': 0.5, 'learning_rate': 0.3, 'max_depth': 5, 'min_child_weight': 12}\n",
      "0.876 (+/-0.007) for {'gamma': 0.5, 'learning_rate': 0.3, 'max_depth': 6, 'min_child_weight': 10}\n",
      "0.873 (+/-0.009) for {'gamma': 0.5, 'learning_rate': 0.3, 'max_depth': 6, 'min_child_weight': 12}\n",
      "0.872 (+/-0.008) for {'gamma': 0.5, 'learning_rate': 0.4, 'max_depth': 5, 'min_child_weight': 10}\n",
      "0.870 (+/-0.010) for {'gamma': 0.5, 'learning_rate': 0.4, 'max_depth': 5, 'min_child_weight': 12}\n",
      "0.880 (+/-0.008) for {'gamma': 0.5, 'learning_rate': 0.4, 'max_depth': 6, 'min_child_weight': 10}\n",
      "0.878 (+/-0.011) for {'gamma': 0.5, 'learning_rate': 0.4, 'max_depth': 6, 'min_child_weight': 12}\n",
      "0.868 (+/-0.007) for {'gamma': 0.7, 'learning_rate': 0.3, 'max_depth': 5, 'min_child_weight': 10}\n",
      "0.869 (+/-0.006) for {'gamma': 0.7, 'learning_rate': 0.3, 'max_depth': 5, 'min_child_weight': 12}\n",
      "0.876 (+/-0.007) for {'gamma': 0.7, 'learning_rate': 0.3, 'max_depth': 6, 'min_child_weight': 10}\n",
      "0.873 (+/-0.009) for {'gamma': 0.7, 'learning_rate': 0.3, 'max_depth': 6, 'min_child_weight': 12}\n",
      "0.872 (+/-0.008) for {'gamma': 0.7, 'learning_rate': 0.4, 'max_depth': 5, 'min_child_weight': 10}\n",
      "0.870 (+/-0.010) for {'gamma': 0.7, 'learning_rate': 0.4, 'max_depth': 5, 'min_child_weight': 12}\n",
      "0.880 (+/-0.008) for {'gamma': 0.7, 'learning_rate': 0.4, 'max_depth': 6, 'min_child_weight': 10}\n",
      "0.878 (+/-0.011) for {'gamma': 0.7, 'learning_rate': 0.4, 'max_depth': 6, 'min_child_weight': 12}\n",
      "\n",
      "Detailed classification report:\n",
      "\n",
      "The model is trained on the full development set.\n",
      "The scores are computed on the full evaluation set.\n",
      "\n",
      "              precision    recall  f1-score   support\n",
      "\n",
      "           0       0.96      0.89      0.92      4680\n",
      "           1       0.53      0.76      0.62       735\n",
      "\n",
      "    accuracy                           0.87      5415\n",
      "   macro avg       0.74      0.83      0.77      5415\n",
      "weighted avg       0.90      0.87      0.88      5415\n",
      "\n"
     ]
    }
   ],
   "source": [
    "params = {\n",
    "        'learning_rate': [0.3, 0.4],\n",
    "        'min_child_weight': [10, 12],\n",
    "        'max_depth': [5, 6],\n",
    "        'gamma': [0.3, 0.5, 0.7]\n",
    "        }\n",
    "\n",
    "scores = ['recall']\n",
    "\n",
    "x_balance, y_balance = k.balance(x_train, y_train, RandomOverSampler())\n",
    "model = lgbm.LGBMClassifier()\n",
    "\n",
    "for score in scores:\n",
    "    print(\"# Tuning hyper-parameters for %s\" % score)\n",
    "    print()\n",
    "    grid = GridSearchCV(model, params, cv=5, scoring='%s_macro' % score)\n",
    "    grid.fit(x_balance, y_balance)\n",
    "    print(\"Best parameters set found on development set:\")\n",
    "    print()\n",
    "    print(grid.best_params_)\n",
    "    print(\"Grid scores on development set:\")\n",
    "    print()\n",
    "    means = grid.cv_results_['mean_test_score']\n",
    "    stds = grid.cv_results_['std_test_score']\n",
    "\n",
    "    for mean, std, params in zip(means, stds, grid.cv_results_['params']):\n",
    "        print(\"%0.3f (+/-%0.03f) for %r\"\n",
    "              % (mean, std * 2, params))\n",
    "    print()\n",
    "\n",
    "    print(\"Detailed classification report:\")\n",
    "    print()\n",
    "    print(\"The model is trained on the full development set.\")\n",
    "    print(\"The scores are computed on the full evaluation set.\")\n",
    "    print()\n",
    "    y_true, y_pred = y_test, grid.predict(x_test)\n",
    "    print(classification_report(y_true, y_pred))"
   ]
  },
  {
   "cell_type": "code",
   "execution_count": null,
   "metadata": {},
   "outputs": [],
   "source": []
  }
 ],
 "metadata": {
  "kernelspec": {
   "display_name": "Python 3",
   "language": "python",
   "name": "python3"
  },
  "language_info": {
   "codemirror_mode": {
    "name": "ipython",
    "version": 3
   },
   "file_extension": ".py",
   "mimetype": "text/x-python",
   "name": "python",
   "nbconvert_exporter": "python",
   "pygments_lexer": "ipython3",
   "version": "3.7.4"
  }
 },
 "nbformat": 4,
 "nbformat_minor": 2
}
